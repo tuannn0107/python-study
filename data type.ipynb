{
 "cells": [
  {
   "cell_type": "code",
   "execution_count": 30,
   "id": "8a0bc2f1",
   "metadata": {},
   "outputs": [],
   "source": [
    "a = 10"
   ]
  },
  {
   "cell_type": "code",
   "execution_count": 31,
   "id": "44162d1a",
   "metadata": {},
   "outputs": [
    {
     "data": {
      "text/plain": [
       "10"
      ]
     },
     "execution_count": 31,
     "metadata": {},
     "output_type": "execute_result"
    }
   ],
   "source": [
    "a"
   ]
  },
  {
   "cell_type": "code",
   "execution_count": 32,
   "id": "87a59427",
   "metadata": {},
   "outputs": [],
   "source": [
    "str = \"aaa\""
   ]
  },
  {
   "cell_type": "code",
   "execution_count": 33,
   "id": "5acbbc21",
   "metadata": {},
   "outputs": [
    {
     "data": {
      "text/plain": [
       "'aaa'"
      ]
     },
     "execution_count": 33,
     "metadata": {},
     "output_type": "execute_result"
    }
   ],
   "source": [
    "str"
   ]
  },
  {
   "cell_type": "code",
   "execution_count": 34,
   "id": "caadc299",
   "metadata": {},
   "outputs": [],
   "source": [
    " str = \"my start with python\""
   ]
  },
  {
   "cell_type": "code",
   "execution_count": 35,
   "id": "1562efae",
   "metadata": {},
   "outputs": [],
   "source": [
    "strtest = str[3:5:2]"
   ]
  },
  {
   "cell_type": "code",
   "execution_count": 36,
   "id": "0932d07a",
   "metadata": {},
   "outputs": [
    {
     "data": {
      "text/plain": [
       "'s'"
      ]
     },
     "execution_count": 36,
     "metadata": {},
     "output_type": "execute_result"
    }
   ],
   "source": [
    "strtest"
   ]
  },
  {
   "cell_type": "code",
   "execution_count": 37,
   "id": "ea5fa43d",
   "metadata": {},
   "outputs": [],
   "source": [
    "strtest = str[3:10:2]"
   ]
  },
  {
   "cell_type": "code",
   "execution_count": 38,
   "id": "b0124f3f",
   "metadata": {},
   "outputs": [
    {
     "data": {
      "text/plain": [
       "'satw'"
      ]
     },
     "execution_count": 38,
     "metadata": {},
     "output_type": "execute_result"
    }
   ],
   "source": [
    "strtest"
   ]
  },
  {
   "cell_type": "code",
   "execution_count": 39,
   "id": "6c4a3376",
   "metadata": {},
   "outputs": [
    {
     "data": {
      "text/plain": [
       "' start with python'"
      ]
     },
     "execution_count": 39,
     "metadata": {},
     "output_type": "execute_result"
    }
   ],
   "source": [
    "str[2:]"
   ]
  },
  {
   "cell_type": "code",
   "execution_count": 40,
   "id": "b2ca0c55",
   "metadata": {},
   "outputs": [
    {
     "data": {
      "text/plain": [
       "'my '"
      ]
     },
     "execution_count": 40,
     "metadata": {},
     "output_type": "execute_result"
    }
   ],
   "source": [
    "str[:3]"
   ]
  },
  {
   "cell_type": "code",
   "execution_count": 41,
   "id": "d2cc939e",
   "metadata": {},
   "outputs": [
    {
     "data": {
      "text/plain": [
       "'my start with python'"
      ]
     },
     "execution_count": 41,
     "metadata": {},
     "output_type": "execute_result"
    }
   ],
   "source": [
    "str[:]"
   ]
  },
  {
   "cell_type": "code",
   "execution_count": 42,
   "id": "470cfae7",
   "metadata": {},
   "outputs": [
    {
     "data": {
      "text/plain": [
       "'hon'"
      ]
     },
     "execution_count": 42,
     "metadata": {},
     "output_type": "execute_result"
    }
   ],
   "source": [
    "str[-3:]"
   ]
  },
  {
   "cell_type": "code",
   "execution_count": 43,
   "id": "db3a4540",
   "metadata": {},
   "outputs": [
    {
     "data": {
      "text/plain": [
       "'This is my first lession of python'"
      ]
     },
     "execution_count": 43,
     "metadata": {},
     "output_type": "execute_result"
    }
   ],
   "source": [
    "'This is my {} lession of {}'.format('first', 'python')"
   ]
  },
  {
   "cell_type": "code",
   "execution_count": 44,
   "id": "4dbfa442",
   "metadata": {},
   "outputs": [
    {
     "data": {
      "text/plain": [
       "'This is my first lession of python. python is great'"
      ]
     },
     "execution_count": 44,
     "metadata": {},
     "output_type": "execute_result"
    }
   ],
   "source": [
    "'This is my {0} lession of {1}. {1} is great'.format('first', 'python')"
   ]
  },
  {
   "cell_type": "code",
   "execution_count": 45,
   "id": "86433906",
   "metadata": {},
   "outputs": [
    {
     "data": {
      "text/plain": [
       "'This is my first lession of python. python is great'"
      ]
     },
     "execution_count": 45,
     "metadata": {},
     "output_type": "execute_result"
    }
   ],
   "source": [
    "'This is my {lessionNumber} lession of {language}. {language} is great'.format(lessionNumber = 'first', language = 'python')"
   ]
  },
  {
   "cell_type": "code",
   "execution_count": 52,
   "id": "54ec10f7",
   "metadata": {},
   "outputs": [
    {
     "data": {
      "text/plain": [
       "'test float point value          8130081300.81301'"
      ]
     },
     "execution_count": 52,
     "metadata": {},
     "output_type": "execute_result"
    }
   ],
   "source": [
    "'test float point value {r:25.5f}'.format(r = 1000000000000/123)"
   ]
  },
  {
   "cell_type": "code",
   "execution_count": 53,
   "id": "acab4fcb",
   "metadata": {},
   "outputs": [
    {
     "data": {
      "text/plain": [
       "'test float point value          8130081300.81301'"
      ]
     },
     "execution_count": 53,
     "metadata": {},
     "output_type": "execute_result"
    }
   ],
   "source": [
    "r = 1000000000000/123\n",
    "f'test float point value {r:25.5f}'"
   ]
  },
  {
   "cell_type": "code",
   "execution_count": 54,
   "id": "44c9eaa0",
   "metadata": {},
   "outputs": [],
   "source": [
    "my_list = ['a', 'b', 'c', 'd']"
   ]
  },
  {
   "cell_type": "code",
   "execution_count": 55,
   "id": "5e8f8f6f",
   "metadata": {},
   "outputs": [
    {
     "data": {
      "text/plain": [
       "'d'"
      ]
     },
     "execution_count": 55,
     "metadata": {},
     "output_type": "execute_result"
    }
   ],
   "source": [
    "my_list.pop()"
   ]
  },
  {
   "cell_type": "code",
   "execution_count": 56,
   "id": "45254cb8",
   "metadata": {},
   "outputs": [
    {
     "data": {
      "text/plain": [
       "['a', 'b', 'c']"
      ]
     },
     "execution_count": 56,
     "metadata": {},
     "output_type": "execute_result"
    }
   ],
   "source": [
    "my_list"
   ]
  },
  {
   "cell_type": "code",
   "execution_count": 57,
   "id": "9d6afe54",
   "metadata": {},
   "outputs": [
    {
     "data": {
      "text/plain": [
       "'c'"
      ]
     },
     "execution_count": 57,
     "metadata": {},
     "output_type": "execute_result"
    }
   ],
   "source": [
    "my_list.pop(-1)"
   ]
  },
  {
   "cell_type": "code",
   "execution_count": 58,
   "id": "2a17d642",
   "metadata": {},
   "outputs": [],
   "source": [
    "my_list = ['a', 'b', 'c', 'd']"
   ]
  },
  {
   "cell_type": "code",
   "execution_count": 59,
   "id": "f9a37180",
   "metadata": {},
   "outputs": [
    {
     "data": {
      "text/plain": [
       "'b'"
      ]
     },
     "execution_count": 59,
     "metadata": {},
     "output_type": "execute_result"
    }
   ],
   "source": [
    "my_list.pop(-3)"
   ]
  },
  {
   "cell_type": "markdown",
   "id": "6bd48818",
   "metadata": {},
   "source": [
    "Dictionaries"
   ]
  },
  {
   "cell_type": "code",
   "execution_count": null,
   "id": "7c4a61b6",
   "metadata": {},
   "outputs": [],
   "source": []
  }
 ],
 "metadata": {
  "kernelspec": {
   "display_name": "Python 3 (ipykernel)",
   "language": "python",
   "name": "python3"
  },
  "language_info": {
   "codemirror_mode": {
    "name": "ipython",
    "version": 3
   },
   "file_extension": ".py",
   "mimetype": "text/x-python",
   "name": "python",
   "nbconvert_exporter": "python",
   "pygments_lexer": "ipython3",
   "version": "3.9.7"
  }
 },
 "nbformat": 4,
 "nbformat_minor": 5
}
