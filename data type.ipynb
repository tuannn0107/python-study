{
 "cells": [
  {
   "cell_type": "code",
   "execution_count": 30,
   "id": "8a0bc2f1",
   "metadata": {},
   "outputs": [],
   "source": [
    "a = 10"
   ]
  },
  {
   "cell_type": "code",
   "execution_count": 31,
   "id": "44162d1a",
   "metadata": {},
   "outputs": [
    {
     "data": {
      "text/plain": [
       "10"
      ]
     },
     "execution_count": 31,
     "metadata": {},
     "output_type": "execute_result"
    }
   ],
   "source": [
    "a"
   ]
  },
  {
   "cell_type": "code",
   "execution_count": 32,
   "id": "87a59427",
   "metadata": {},
   "outputs": [],
   "source": [
    "str = \"aaa\""
   ]
  },
  {
   "cell_type": "code",
   "execution_count": 33,
   "id": "5acbbc21",
   "metadata": {},
   "outputs": [
    {
     "data": {
      "text/plain": [
       "'aaa'"
      ]
     },
     "execution_count": 33,
     "metadata": {},
     "output_type": "execute_result"
    }
   ],
   "source": [
    "str"
   ]
  },
  {
   "cell_type": "code",
   "execution_count": 34,
   "id": "caadc299",
   "metadata": {},
   "outputs": [],
   "source": [
    " str = \"my start with python\""
   ]
  },
  {
   "cell_type": "code",
   "execution_count": 35,
   "id": "1562efae",
   "metadata": {},
   "outputs": [],
   "source": [
    "strtest = str[3:5:2]"
   ]
  },
  {
   "cell_type": "code",
   "execution_count": 36,
   "id": "0932d07a",
   "metadata": {},
   "outputs": [
    {
     "data": {
      "text/plain": [
       "'s'"
      ]
     },
     "execution_count": 36,
     "metadata": {},
     "output_type": "execute_result"
    }
   ],
   "source": [
    "strtest"
   ]
  },
  {
   "cell_type": "code",
   "execution_count": 37,
   "id": "ea5fa43d",
   "metadata": {},
   "outputs": [],
   "source": [
    "strtest = str[3:10:2]"
   ]
  },
  {
   "cell_type": "code",
   "execution_count": 38,
   "id": "b0124f3f",
   "metadata": {},
   "outputs": [
    {
     "data": {
      "text/plain": [
       "'satw'"
      ]
     },
     "execution_count": 38,
     "metadata": {},
     "output_type": "execute_result"
    }
   ],
   "source": [
    "strtest"
   ]
  },
  {
   "cell_type": "code",
   "execution_count": 39,
   "id": "6c4a3376",
   "metadata": {},
   "outputs": [
    {
     "data": {
      "text/plain": [
       "' start with python'"
      ]
     },
     "execution_count": 39,
     "metadata": {},
     "output_type": "execute_result"
    }
   ],
   "source": [
    "str[2:]"
   ]
  },
  {
   "cell_type": "code",
   "execution_count": 40,
   "id": "b2ca0c55",
   "metadata": {},
   "outputs": [
    {
     "data": {
      "text/plain": [
       "'my '"
      ]
     },
     "execution_count": 40,
     "metadata": {},
     "output_type": "execute_result"
    }
   ],
   "source": [
    "str[:3]"
   ]
  },
  {
   "cell_type": "code",
   "execution_count": 41,
   "id": "d2cc939e",
   "metadata": {},
   "outputs": [
    {
     "data": {
      "text/plain": [
       "'my start with python'"
      ]
     },
     "execution_count": 41,
     "metadata": {},
     "output_type": "execute_result"
    }
   ],
   "source": [
    "str[:]"
   ]
  },
  {
   "cell_type": "code",
   "execution_count": 42,
   "id": "470cfae7",
   "metadata": {},
   "outputs": [
    {
     "data": {
      "text/plain": [
       "'hon'"
      ]
     },
     "execution_count": 42,
     "metadata": {},
     "output_type": "execute_result"
    }
   ],
   "source": [
    "str[-3:]"
   ]
  },
  {
   "cell_type": "code",
   "execution_count": 43,
   "id": "db3a4540",
   "metadata": {},
   "outputs": [
    {
     "data": {
      "text/plain": [
       "'This is my first lession of python'"
      ]
     },
     "execution_count": 43,
     "metadata": {},
     "output_type": "execute_result"
    }
   ],
   "source": [
    "'This is my {} lession of {}'.format('first', 'python')"
   ]
  },
  {
   "cell_type": "code",
   "execution_count": 44,
   "id": "4dbfa442",
   "metadata": {},
   "outputs": [
    {
     "data": {
      "text/plain": [
       "'This is my first lession of python. python is great'"
      ]
     },
     "execution_count": 44,
     "metadata": {},
     "output_type": "execute_result"
    }
   ],
   "source": [
    "'This is my {0} lession of {1}. {1} is great'.format('first', 'python')"
   ]
  },
  {
   "cell_type": "code",
   "execution_count": 45,
   "id": "86433906",
   "metadata": {},
   "outputs": [
    {
     "data": {
      "text/plain": [
       "'This is my first lession of python. python is great'"
      ]
     },
     "execution_count": 45,
     "metadata": {},
     "output_type": "execute_result"
    }
   ],
   "source": [
    "'This is my {lessionNumber} lession of {language}. {language} is great'.format(lessionNumber = 'first', language = 'python')"
   ]
  },
  {
   "cell_type": "code",
   "execution_count": 52,
   "id": "54ec10f7",
   "metadata": {},
   "outputs": [
    {
     "data": {
      "text/plain": [
       "'test float point value          8130081300.81301'"
      ]
     },
     "execution_count": 52,
     "metadata": {},
     "output_type": "execute_result"
    }
   ],
   "source": [
    "'test float point value {r:25.5f}'.format(r = 1000000000000/123)"
   ]
  },
  {
   "cell_type": "code",
   "execution_count": 7,
   "id": "acab4fcb",
   "metadata": {},
   "outputs": [
    {
     "data": {
      "text/plain": [
       "'test float point value          8130081300.81301'"
      ]
     },
     "execution_count": 7,
     "metadata": {},
     "output_type": "execute_result"
    }
   ],
   "source": [
    "r = 1000000000000/123\n",
    "f'test float point value {r:25.5f}'"
   ]
  },
  {
   "cell_type": "markdown",
   "id": "20dd92ed",
   "metadata": {},
   "source": [
    "################# List #################\n",
    "List is mutability"
   ]
  },
  {
   "cell_type": "code",
   "execution_count": 9,
   "id": "44c9eaa0",
   "metadata": {},
   "outputs": [],
   "source": [
    "my_list = ['a', 'b', 'c', 'd']"
   ]
  },
  {
   "cell_type": "code",
   "execution_count": 10,
   "id": "5e8f8f6f",
   "metadata": {},
   "outputs": [
    {
     "data": {
      "text/plain": [
       "'d'"
      ]
     },
     "execution_count": 10,
     "metadata": {},
     "output_type": "execute_result"
    }
   ],
   "source": [
    "my_list.pop()"
   ]
  },
  {
   "cell_type": "code",
   "execution_count": 11,
   "id": "45254cb8",
   "metadata": {},
   "outputs": [
    {
     "data": {
      "text/plain": [
       "['a', 'b', 'c']"
      ]
     },
     "execution_count": 11,
     "metadata": {},
     "output_type": "execute_result"
    }
   ],
   "source": [
    "my_list"
   ]
  },
  {
   "cell_type": "code",
   "execution_count": 12,
   "id": "9d6afe54",
   "metadata": {},
   "outputs": [
    {
     "data": {
      "text/plain": [
       "'c'"
      ]
     },
     "execution_count": 12,
     "metadata": {},
     "output_type": "execute_result"
    }
   ],
   "source": [
    "my_list.pop(-1)"
   ]
  },
  {
   "cell_type": "code",
   "execution_count": 13,
   "id": "2a17d642",
   "metadata": {},
   "outputs": [],
   "source": [
    "my_list = ['a', 'b', 'c', 'd']"
   ]
  },
  {
   "cell_type": "code",
   "execution_count": 14,
   "id": "f9a37180",
   "metadata": {},
   "outputs": [
    {
     "data": {
      "text/plain": [
       "'b'"
      ]
     },
     "execution_count": 14,
     "metadata": {},
     "output_type": "execute_result"
    }
   ],
   "source": [
    "my_list.pop(-3)"
   ]
  },
  {
   "cell_type": "code",
   "execution_count": 15,
   "id": "03d017a7",
   "metadata": {},
   "outputs": [
    {
     "data": {
      "text/plain": [
       "'c'"
      ]
     },
     "execution_count": 15,
     "metadata": {},
     "output_type": "execute_result"
    }
   ],
   "source": [
    "my_list[1]"
   ]
  },
  {
   "cell_type": "markdown",
   "id": "6bd48818",
   "metadata": {},
   "source": [
    "################# Dictionaries #################\n",
    "Use key-value mapping.\n",
    "As of Python version 3.7, dictionaries are ordered. In Python 3.6 and earlier, dictionaries are unordered."
   ]
  },
  {
   "cell_type": "code",
   "execution_count": 48,
   "id": "7c4a61b6",
   "metadata": {},
   "outputs": [],
   "source": [
    "my_dict = {'key4': 'val111', 'key22': 'val222', 'key33': 'val333'}"
   ]
  },
  {
   "cell_type": "code",
   "execution_count": 49,
   "id": "60f98b2e",
   "metadata": {},
   "outputs": [
    {
     "data": {
      "text/plain": [
       "'val111'"
      ]
     },
     "execution_count": 49,
     "metadata": {},
     "output_type": "execute_result"
    }
   ],
   "source": [
    "my_dict['key4']"
   ]
  },
  {
   "cell_type": "code",
   "execution_count": 46,
   "id": "be8ab7e0",
   "metadata": {},
   "outputs": [],
   "source": [
    " d = {'k4': 123, 'k2':[1, 2, 3], 'k3': {'innerKey': 124}}"
   ]
  },
  {
   "cell_type": "code",
   "execution_count": 4,
   "id": "5dffacb4",
   "metadata": {},
   "outputs": [
    {
     "data": {
      "text/plain": [
       "[1, 2, 3]"
      ]
     },
     "execution_count": 4,
     "metadata": {},
     "output_type": "execute_result"
    }
   ],
   "source": [
    "d['k4']"
   ]
  },
  {
   "cell_type": "code",
   "execution_count": 5,
   "id": "183d2126",
   "metadata": {},
   "outputs": [
    {
     "data": {
      "text/plain": [
       "{'innerKey': 124}"
      ]
     },
     "execution_count": 5,
     "metadata": {},
     "output_type": "execute_result"
    }
   ],
   "source": [
    "d['k3']"
   ]
  },
  {
   "cell_type": "code",
   "execution_count": 43,
   "id": "8674338e",
   "metadata": {},
   "outputs": [
    {
     "data": {
      "text/plain": [
       "124"
      ]
     },
     "execution_count": 43,
     "metadata": {},
     "output_type": "execute_result"
    }
   ],
   "source": [
    "d['k3']['innerKey']"
   ]
  },
  {
   "cell_type": "code",
   "execution_count": 50,
   "id": "b94c6070",
   "metadata": {},
   "outputs": [
    {
     "data": {
      "text/plain": [
       "{'key4': 'val111', 'key22': 'val222', 'key33': 'val333'}"
      ]
     },
     "execution_count": 50,
     "metadata": {},
     "output_type": "execute_result"
    }
   ],
   "source": [
    "my_dict"
   ]
  },
  {
   "cell_type": "code",
   "execution_count": 47,
   "id": "f6af3b81",
   "metadata": {},
   "outputs": [
    {
     "data": {
      "text/plain": [
       "{'k4': 123, 'k2': [1, 2, 3], 'k3': {'innerKey': 124}}"
      ]
     },
     "execution_count": 47,
     "metadata": {},
     "output_type": "execute_result"
    }
   ],
   "source": [
    "d"
   ]
  },
  {
   "cell_type": "markdown",
   "id": "e958390a",
   "metadata": {},
   "source": [
    "################# Tuples #################\n",
    "Very similar to List. The key diff is that the tuple is Immutability.\n",
    "Tuple use parenthesis (1,2,3)"
   ]
  },
  {
   "cell_type": "code",
   "execution_count": 16,
   "id": "6adbe95e",
   "metadata": {},
   "outputs": [],
   "source": [
    " t = (1,2,3)\n",
    "my_list = [1, 2, 3]"
   ]
  },
  {
   "cell_type": "code",
   "execution_count": 17,
   "id": "241cf238",
   "metadata": {},
   "outputs": [
    {
     "data": {
      "text/plain": [
       "tuple"
      ]
     },
     "execution_count": 17,
     "metadata": {},
     "output_type": "execute_result"
    }
   ],
   "source": [
    "type(t)"
   ]
  },
  {
   "cell_type": "code",
   "execution_count": 18,
   "id": "c53aef30",
   "metadata": {},
   "outputs": [
    {
     "data": {
      "text/plain": [
       "list"
      ]
     },
     "execution_count": 18,
     "metadata": {},
     "output_type": "execute_result"
    }
   ],
   "source": [
    "type(my_list)"
   ]
  },
  {
   "cell_type": "code",
   "execution_count": 19,
   "id": "679bc87d",
   "metadata": {},
   "outputs": [
    {
     "data": {
      "text/plain": [
       "2"
      ]
     },
     "execution_count": 19,
     "metadata": {},
     "output_type": "execute_result"
    }
   ],
   "source": [
    "t[1]"
   ]
  },
  {
   "cell_type": "code",
   "execution_count": 22,
   "id": "13445642",
   "metadata": {},
   "outputs": [
    {
     "ename": "TypeError",
     "evalue": "'tuple' object does not support item assignment",
     "output_type": "error",
     "traceback": [
      "\u001b[1;31m---------------------------------------------------------------------------\u001b[0m",
      "\u001b[1;31mTypeError\u001b[0m                                 Traceback (most recent call last)",
      "\u001b[1;32m~\\AppData\\Local\\Temp/ipykernel_12344/828874529.py\u001b[0m in \u001b[0;36m<module>\u001b[1;34m\u001b[0m\n\u001b[1;32m----> 1\u001b[1;33m \u001b[0mt\u001b[0m\u001b[1;33m[\u001b[0m\u001b[1;36m1\u001b[0m\u001b[1;33m]\u001b[0m \u001b[1;33m=\u001b[0m \u001b[1;36m4\u001b[0m \u001b[1;31m#This can lead to error 'tuple' object does not support item assignment\u001b[0m\u001b[1;33m\u001b[0m\u001b[1;33m\u001b[0m\u001b[0m\n\u001b[0m",
      "\u001b[1;31mTypeError\u001b[0m: 'tuple' object does not support item assignment"
     ]
    }
   ],
   "source": [
    "t[1] = 4 #This can lead to error 'tuple' object does not support item assignment"
   ]
  },
  {
   "cell_type": "code",
   "execution_count": 23,
   "id": "0ee0c767",
   "metadata": {},
   "outputs": [],
   "source": [
    "t = ('a', 'b', 'r', 'a')"
   ]
  },
  {
   "cell_type": "code",
   "execution_count": 25,
   "id": "b48bed6f",
   "metadata": {},
   "outputs": [
    {
     "data": {
      "text/plain": [
       "2"
      ]
     },
     "execution_count": 25,
     "metadata": {},
     "output_type": "execute_result"
    }
   ],
   "source": [
    "t.count('a') #Count number of element 'a'"
   ]
  },
  {
   "cell_type": "code",
   "execution_count": 26,
   "id": "71cb71f7",
   "metadata": {},
   "outputs": [
    {
     "data": {
      "text/plain": [
       "('a', 'b', 'r', 'a')"
      ]
     },
     "execution_count": 26,
     "metadata": {},
     "output_type": "execute_result"
    }
   ],
   "source": [
    "t"
   ]
  },
  {
   "cell_type": "markdown",
   "id": "ba0f40eb",
   "metadata": {},
   "source": [
    "################# Set #################\n",
    "Unordered, Unchangable collections of Unique element"
   ]
  },
  {
   "cell_type": "code",
   "execution_count": 31,
   "id": "bf83bd60",
   "metadata": {},
   "outputs": [],
   "source": [
    "my_set = {'a', 'b', 'r', 'a'}"
   ]
  },
  {
   "cell_type": "code",
   "execution_count": 32,
   "id": "f71198aa",
   "metadata": {},
   "outputs": [
    {
     "data": {
      "text/plain": [
       "set"
      ]
     },
     "execution_count": 32,
     "metadata": {},
     "output_type": "execute_result"
    }
   ],
   "source": [
    "type(my_set)"
   ]
  },
  {
   "cell_type": "code",
   "execution_count": 33,
   "id": "e48c5e01",
   "metadata": {},
   "outputs": [
    {
     "data": {
      "text/plain": [
       "{'a', 'b', 'r'}"
      ]
     },
     "execution_count": 33,
     "metadata": {},
     "output_type": "execute_result"
    }
   ],
   "source": [
    "my_set"
   ]
  },
  {
   "cell_type": "code",
   "execution_count": 34,
   "id": "5ced3fa9",
   "metadata": {},
   "outputs": [],
   "source": [
    "my_set.add(1)"
   ]
  },
  {
   "cell_type": "code",
   "execution_count": 35,
   "id": "82c6715f",
   "metadata": {},
   "outputs": [
    {
     "data": {
      "text/plain": [
       "{1, 'a', 'b', 'r'}"
      ]
     },
     "execution_count": 35,
     "metadata": {},
     "output_type": "execute_result"
    }
   ],
   "source": [
    "my_set"
   ]
  },
  {
   "cell_type": "code",
   "execution_count": 36,
   "id": "69708a23",
   "metadata": {},
   "outputs": [],
   "source": [
    "my_set.add('x')"
   ]
  },
  {
   "cell_type": "code",
   "execution_count": 37,
   "id": "ea15a6a2",
   "metadata": {},
   "outputs": [
    {
     "data": {
      "text/plain": [
       "{1, 'a', 'b', 'r', 'x'}"
      ]
     },
     "execution_count": 37,
     "metadata": {},
     "output_type": "execute_result"
    }
   ],
   "source": [
    "my_set"
   ]
  },
  {
   "cell_type": "code",
   "execution_count": 38,
   "id": "27c7b9d9",
   "metadata": {},
   "outputs": [],
   "source": [
    "my_set.add('t')"
   ]
  },
  {
   "cell_type": "code",
   "execution_count": 40,
   "id": "6128044c",
   "metadata": {},
   "outputs": [
    {
     "data": {
      "text/plain": [
       "{1, 'a', 'b', 'r', 't', 'x'}"
      ]
     },
     "execution_count": 40,
     "metadata": {},
     "output_type": "execute_result"
    }
   ],
   "source": [
    "my_set"
   ]
  },
  {
   "cell_type": "code",
   "execution_count": 42,
   "id": "2d2b383b",
   "metadata": {},
   "outputs": [
    {
     "ename": "AttributeError",
     "evalue": "'set' object has no attribute 'get'",
     "output_type": "error",
     "traceback": [
      "\u001b[1;31m---------------------------------------------------------------------------\u001b[0m",
      "\u001b[1;31mAttributeError\u001b[0m                            Traceback (most recent call last)",
      "\u001b[1;32m~\\AppData\\Local\\Temp/ipykernel_12344/1171660009.py\u001b[0m in \u001b[0;36m<module>\u001b[1;34m\u001b[0m\n\u001b[1;32m----> 1\u001b[1;33m \u001b[0mmy_set\u001b[0m\u001b[1;33m.\u001b[0m\u001b[0mget\u001b[0m\u001b[1;33m(\u001b[0m\u001b[1;36m3\u001b[0m\u001b[1;33m)\u001b[0m\u001b[1;33m\u001b[0m\u001b[1;33m\u001b[0m\u001b[0m\n\u001b[0m",
      "\u001b[1;31mAttributeError\u001b[0m: 'set' object has no attribute 'get'"
     ]
    }
   ],
   "source": [
    "my_set.get(3)"
   ]
  },
  {
   "cell_type": "code",
   "execution_count": null,
   "id": "1b7b41b0",
   "metadata": {},
   "outputs": [],
   "source": []
  },
  {
   "cell_type": "code",
   "execution_count": null,
   "id": "7073e85e",
   "metadata": {},
   "outputs": [],
   "source": []
  }
 ],
 "metadata": {
  "kernelspec": {
   "display_name": "Python 3 (ipykernel)",
   "language": "python",
   "name": "python3"
  },
  "language_info": {
   "codemirror_mode": {
    "name": "ipython",
    "version": 3
   },
   "file_extension": ".py",
   "mimetype": "text/x-python",
   "name": "python",
   "nbconvert_exporter": "python",
   "pygments_lexer": "ipython3",
   "version": "3.9.7"
  }
 },
 "nbformat": 4,
 "nbformat_minor": 5
}
