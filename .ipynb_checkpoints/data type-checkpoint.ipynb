{
 "cells": [
  {
   "cell_type": "code",
   "execution_count": 30,
   "id": "8a0bc2f1",
   "metadata": {},
   "outputs": [],
   "source": [
    "a = 10"
   ]
  },
  {
   "cell_type": "code",
   "execution_count": 31,
   "id": "44162d1a",
   "metadata": {},
   "outputs": [
    {
     "data": {
      "text/plain": [
       "10"
      ]
     },
     "execution_count": 31,
     "metadata": {},
     "output_type": "execute_result"
    }
   ],
   "source": [
    "a"
   ]
  },
  {
   "cell_type": "code",
   "execution_count": 32,
   "id": "87a59427",
   "metadata": {},
   "outputs": [],
   "source": [
    "str = \"aaa\""
   ]
  },
  {
   "cell_type": "code",
   "execution_count": 33,
   "id": "5acbbc21",
   "metadata": {},
   "outputs": [
    {
     "data": {
      "text/plain": [
       "'aaa'"
      ]
     },
     "execution_count": 33,
     "metadata": {},
     "output_type": "execute_result"
    }
   ],
   "source": [
    "str"
   ]
  },
  {
   "cell_type": "code",
   "execution_count": 34,
   "id": "caadc299",
   "metadata": {},
   "outputs": [],
   "source": [
    " str = \"my start with python\""
   ]
  },
  {
   "cell_type": "code",
   "execution_count": 35,
   "id": "1562efae",
   "metadata": {},
   "outputs": [],
   "source": [
    "strtest = str[3:5:2]"
   ]
  },
  {
   "cell_type": "code",
   "execution_count": 36,
   "id": "0932d07a",
   "metadata": {},
   "outputs": [
    {
     "data": {
      "text/plain": [
       "'s'"
      ]
     },
     "execution_count": 36,
     "metadata": {},
     "output_type": "execute_result"
    }
   ],
   "source": [
    "strtest"
   ]
  },
  {
   "cell_type": "code",
   "execution_count": 37,
   "id": "ea5fa43d",
   "metadata": {},
   "outputs": [],
   "source": [
    "strtest = str[3:10:2]"
   ]
  },
  {
   "cell_type": "code",
   "execution_count": 38,
   "id": "b0124f3f",
   "metadata": {},
   "outputs": [
    {
     "data": {
      "text/plain": [
       "'satw'"
      ]
     },
     "execution_count": 38,
     "metadata": {},
     "output_type": "execute_result"
    }
   ],
   "source": [
    "strtest"
   ]
  },
  {
   "cell_type": "code",
   "execution_count": 39,
   "id": "6c4a3376",
   "metadata": {},
   "outputs": [
    {
     "data": {
      "text/plain": [
       "' start with python'"
      ]
     },
     "execution_count": 39,
     "metadata": {},
     "output_type": "execute_result"
    }
   ],
   "source": [
    "str[2:]"
   ]
  },
  {
   "cell_type": "code",
   "execution_count": 40,
   "id": "b2ca0c55",
   "metadata": {},
   "outputs": [
    {
     "data": {
      "text/plain": [
       "'my '"
      ]
     },
     "execution_count": 40,
     "metadata": {},
     "output_type": "execute_result"
    }
   ],
   "source": [
    "str[:3]"
   ]
  },
  {
   "cell_type": "code",
   "execution_count": 41,
   "id": "d2cc939e",
   "metadata": {},
   "outputs": [
    {
     "data": {
      "text/plain": [
       "'my start with python'"
      ]
     },
     "execution_count": 41,
     "metadata": {},
     "output_type": "execute_result"
    }
   ],
   "source": [
    "str[:]"
   ]
  },
  {
   "cell_type": "code",
   "execution_count": 42,
   "id": "470cfae7",
   "metadata": {},
   "outputs": [
    {
     "data": {
      "text/plain": [
       "'hon'"
      ]
     },
     "execution_count": 42,
     "metadata": {},
     "output_type": "execute_result"
    }
   ],
   "source": [
    "str[-3:]"
   ]
  },
  {
   "cell_type": "code",
   "execution_count": null,
   "id": "db3a4540",
   "metadata": {},
   "outputs": [],
   "source": [
    "'This'"
   ]
  }
 ],
 "metadata": {
  "kernelspec": {
   "display_name": "Python 3 (ipykernel)",
   "language": "python",
   "name": "python3"
  },
  "language_info": {
   "codemirror_mode": {
    "name": "ipython",
    "version": 3
   },
   "file_extension": ".py",
   "mimetype": "text/x-python",
   "name": "python",
   "nbconvert_exporter": "python",
   "pygments_lexer": "ipython3",
   "version": "3.9.7"
  }
 },
 "nbformat": 4,
 "nbformat_minor": 5
}
