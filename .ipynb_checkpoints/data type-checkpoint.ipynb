{
 "cells": [
  {
   "cell_type": "code",
   "execution_count": 30,
   "id": "8a0bc2f1",
   "metadata": {},
   "outputs": [],
   "source": [
    "a = 10"
   ]
  },
  {
   "cell_type": "code",
   "execution_count": 31,
   "id": "44162d1a",
   "metadata": {},
   "outputs": [
    {
     "data": {
      "text/plain": [
       "10"
      ]
     },
     "execution_count": 31,
     "metadata": {},
     "output_type": "execute_result"
    }
   ],
   "source": [
    "a"
   ]
  },
  {
   "cell_type": "code",
   "execution_count": 32,
   "id": "87a59427",
   "metadata": {},
   "outputs": [],
   "source": [
    "str = \"aaa\""
   ]
  },
  {
   "cell_type": "code",
   "execution_count": 33,
   "id": "5acbbc21",
   "metadata": {},
   "outputs": [
    {
     "data": {
      "text/plain": [
       "'aaa'"
      ]
     },
     "execution_count": 33,
     "metadata": {},
     "output_type": "execute_result"
    }
   ],
   "source": [
    "str"
   ]
  },
  {
   "cell_type": "code",
   "execution_count": 34,
   "id": "caadc299",
   "metadata": {},
   "outputs": [],
   "source": [
    " str = \"my start with python\""
   ]
  },
  {
   "cell_type": "code",
   "execution_count": 35,
   "id": "1562efae",
   "metadata": {},
   "outputs": [],
   "source": [
    "strtest = str[3:5:2]"
   ]
  },
  {
   "cell_type": "code",
   "execution_count": 36,
   "id": "0932d07a",
   "metadata": {},
   "outputs": [
    {
     "data": {
      "text/plain": [
       "'s'"
      ]
     },
     "execution_count": 36,
     "metadata": {},
     "output_type": "execute_result"
    }
   ],
   "source": [
    "strtest"
   ]
  },
  {
   "cell_type": "code",
   "execution_count": 37,
   "id": "ea5fa43d",
   "metadata": {},
   "outputs": [],
   "source": [
    "strtest = str[3:10:2]"
   ]
  },
  {
   "cell_type": "code",
   "execution_count": 38,
   "id": "b0124f3f",
   "metadata": {},
   "outputs": [
    {
     "data": {
      "text/plain": [
       "'satw'"
      ]
     },
     "execution_count": 38,
     "metadata": {},
     "output_type": "execute_result"
    }
   ],
   "source": [
    "strtest"
   ]
  },
  {
   "cell_type": "code",
   "execution_count": 39,
   "id": "6c4a3376",
   "metadata": {},
   "outputs": [
    {
     "data": {
      "text/plain": [
       "' start with python'"
      ]
     },
     "execution_count": 39,
     "metadata": {},
     "output_type": "execute_result"
    }
   ],
   "source": [
    "str[2:]"
   ]
  },
  {
   "cell_type": "code",
   "execution_count": 40,
   "id": "b2ca0c55",
   "metadata": {},
   "outputs": [
    {
     "data": {
      "text/plain": [
       "'my '"
      ]
     },
     "execution_count": 40,
     "metadata": {},
     "output_type": "execute_result"
    }
   ],
   "source": [
    "str[:3]"
   ]
  },
  {
   "cell_type": "code",
   "execution_count": 41,
   "id": "d2cc939e",
   "metadata": {},
   "outputs": [
    {
     "data": {
      "text/plain": [
       "'my start with python'"
      ]
     },
     "execution_count": 41,
     "metadata": {},
     "output_type": "execute_result"
    }
   ],
   "source": [
    "str[:]"
   ]
  },
  {
   "cell_type": "code",
   "execution_count": 42,
   "id": "470cfae7",
   "metadata": {},
   "outputs": [
    {
     "data": {
      "text/plain": [
       "'hon'"
      ]
     },
     "execution_count": 42,
     "metadata": {},
     "output_type": "execute_result"
    }
   ],
   "source": [
    "str[-3:]"
   ]
  },
  {
   "cell_type": "code",
   "execution_count": 43,
   "id": "db3a4540",
   "metadata": {},
   "outputs": [
    {
     "data": {
      "text/plain": [
       "'This is my first lession of python'"
      ]
     },
     "execution_count": 43,
     "metadata": {},
     "output_type": "execute_result"
    }
   ],
   "source": [
    "'This is my {} lession of {}'.format('first', 'python')"
   ]
  },
  {
   "cell_type": "code",
   "execution_count": 44,
   "id": "4dbfa442",
   "metadata": {},
   "outputs": [
    {
     "data": {
      "text/plain": [
       "'This is my first lession of python. python is great'"
      ]
     },
     "execution_count": 44,
     "metadata": {},
     "output_type": "execute_result"
    }
   ],
   "source": [
    "'This is my {0} lession of {1}. {1} is great'.format('first', 'python')"
   ]
  },
  {
   "cell_type": "code",
   "execution_count": 45,
   "id": "86433906",
   "metadata": {},
   "outputs": [
    {
     "data": {
      "text/plain": [
       "'This is my first lession of python. python is great'"
      ]
     },
     "execution_count": 45,
     "metadata": {},
     "output_type": "execute_result"
    }
   ],
   "source": [
    "'This is my {lessionNumber} lession of {language}. {language} is great'.format(lessionNumber = 'first', language = 'python')"
   ]
  },
  {
   "cell_type": "code",
   "execution_count": 52,
   "id": "54ec10f7",
   "metadata": {},
   "outputs": [
    {
     "data": {
      "text/plain": [
       "'test float point value          8130081300.81301'"
      ]
     },
     "execution_count": 52,
     "metadata": {},
     "output_type": "execute_result"
    }
   ],
   "source": [
    "'test float point value {r:25.5f}'.format(r = 1000000000000/123)"
   ]
  },
  {
   "cell_type": "code",
   "execution_count": 7,
   "id": "acab4fcb",
   "metadata": {},
   "outputs": [
    {
     "data": {
      "text/plain": [
       "'test float point value          8130081300.81301'"
      ]
     },
     "execution_count": 7,
     "metadata": {},
     "output_type": "execute_result"
    }
   ],
   "source": [
    "r = 1000000000000/123\n",
    "f'test float point value {r:25.5f}'"
   ]
  },
  {
   "cell_type": "markdown",
   "id": "f1598381",
   "metadata": {},
   "source": [
    "################# List #################\n",
    "List is mutability"
   ]
  },
  {
   "cell_type": "code",
   "execution_count": 9,
   "id": "44c9eaa0",
   "metadata": {},
   "outputs": [],
   "source": [
    "my_list = ['a', 'b', 'c', 'd']"
   ]
  },
  {
   "cell_type": "code",
   "execution_count": 10,
   "id": "5e8f8f6f",
   "metadata": {},
   "outputs": [
    {
     "data": {
      "text/plain": [
       "'d'"
      ]
     },
     "execution_count": 10,
     "metadata": {},
     "output_type": "execute_result"
    }
   ],
   "source": [
    "my_list.pop()"
   ]
  },
  {
   "cell_type": "code",
   "execution_count": 11,
   "id": "45254cb8",
   "metadata": {},
   "outputs": [
    {
     "data": {
      "text/plain": [
       "['a', 'b', 'c']"
      ]
     },
     "execution_count": 11,
     "metadata": {},
     "output_type": "execute_result"
    }
   ],
   "source": [
    "my_list"
   ]
  },
  {
   "cell_type": "code",
   "execution_count": 12,
   "id": "9d6afe54",
   "metadata": {},
   "outputs": [
    {
     "data": {
      "text/plain": [
       "'c'"
      ]
     },
     "execution_count": 12,
     "metadata": {},
     "output_type": "execute_result"
    }
   ],
   "source": [
    "my_list.pop(-1)"
   ]
  },
  {
   "cell_type": "code",
   "execution_count": 13,
   "id": "2a17d642",
   "metadata": {},
   "outputs": [],
   "source": [
    "my_list = ['a', 'b', 'c', 'd']"
   ]
  },
  {
   "cell_type": "code",
   "execution_count": 14,
   "id": "f9a37180",
   "metadata": {},
   "outputs": [
    {
     "data": {
      "text/plain": [
       "'b'"
      ]
     },
     "execution_count": 14,
     "metadata": {},
     "output_type": "execute_result"
    }
   ],
   "source": [
    "my_list.pop(-3)"
   ]
  },
  {
   "cell_type": "code",
   "execution_count": 15,
   "id": "22d87ec3",
   "metadata": {},
   "outputs": [
    {
     "data": {
      "text/plain": [
       "'c'"
      ]
     },
     "execution_count": 15,
     "metadata": {},
     "output_type": "execute_result"
    }
   ],
   "source": [
    "my_list[1]"
   ]
  },
  {
   "cell_type": "markdown",
   "id": "6bd48818",
   "metadata": {},
   "source": [
    "################# Dictionaries #################\n",
    "Use key-value mapping."
   ]
  },
  {
   "cell_type": "code",
   "execution_count": 1,
   "id": "7c4a61b6",
   "metadata": {},
   "outputs": [],
   "source": [
    "my_dict = {'key1': 'val111', 'key22': 'val222', 'key33': 'val333'}"
   ]
  },
  {
   "cell_type": "code",
   "execution_count": 2,
   "id": "0bb8bd51",
   "metadata": {},
   "outputs": [
    {
     "data": {
      "text/plain": [
       "'val111'"
      ]
     },
     "execution_count": 2,
     "metadata": {},
     "output_type": "execute_result"
    }
   ],
   "source": [
    "my_dict['key1']"
   ]
  },
  {
   "cell_type": "code",
   "execution_count": 3,
   "id": "1767b335",
   "metadata": {},
   "outputs": [],
   "source": [
    " d = {'k1': 123, 'k2':[1, 2, 3], 'k3': {'innerKey': 124}}"
   ]
  },
  {
   "cell_type": "code",
   "execution_count": 4,
   "id": "bea5b3b5",
   "metadata": {},
   "outputs": [
    {
     "data": {
      "text/plain": [
       "[1, 2, 3]"
      ]
     },
     "execution_count": 4,
     "metadata": {},
     "output_type": "execute_result"
    }
   ],
   "source": [
    "d['k2']"
   ]
  },
  {
   "cell_type": "code",
   "execution_count": 5,
   "id": "0464be88",
   "metadata": {},
   "outputs": [
    {
     "data": {
      "text/plain": [
       "{'innerKey': 124}"
      ]
     },
     "execution_count": 5,
     "metadata": {},
     "output_type": "execute_result"
    }
   ],
   "source": [
    "d['k3']"
   ]
  },
  {
   "cell_type": "code",
   "execution_count": 6,
   "id": "25464511",
   "metadata": {},
   "outputs": [
    {
     "data": {
      "text/plain": [
       "124"
      ]
     },
     "execution_count": 6,
     "metadata": {},
     "output_type": "execute_result"
    }
   ],
   "source": [
    "d['k3']['innerKey']"
   ]
  },
  {
   "cell_type": "markdown",
   "id": "ccef1caa",
   "metadata": {},
   "source": [
    "################# Tuples #################\n",
    "Very similar to List. The key diff is that the tuple is Immutability.\n",
    "Tuple use parenthesis (1,2,3)"
   ]
  },
  {
   "cell_type": "code",
   "execution_count": 16,
   "id": "c36bef71",
   "metadata": {},
   "outputs": [],
   "source": [
    " t = (1,2,3)\n",
    "my_list = [1, 2, 3]"
   ]
  },
  {
   "cell_type": "code",
   "execution_count": 17,
   "id": "82d92388",
   "metadata": {},
   "outputs": [
    {
     "data": {
      "text/plain": [
       "tuple"
      ]
     },
     "execution_count": 17,
     "metadata": {},
     "output_type": "execute_result"
    }
   ],
   "source": [
    "type(t)"
   ]
  },
  {
   "cell_type": "code",
   "execution_count": 18,
   "id": "b215a35a",
   "metadata": {},
   "outputs": [
    {
     "data": {
      "text/plain": [
       "list"
      ]
     },
     "execution_count": 18,
     "metadata": {},
     "output_type": "execute_result"
    }
   ],
   "source": [
    "type(my_list)"
   ]
  },
  {
   "cell_type": "code",
   "execution_count": 19,
   "id": "9b27087d",
   "metadata": {},
   "outputs": [
    {
     "data": {
      "text/plain": [
       "2"
      ]
     },
     "execution_count": 19,
     "metadata": {},
     "output_type": "execute_result"
    }
   ],
   "source": [
    "t[1]"
   ]
  },
  {
   "cell_type": "code",
   "execution_count": 22,
   "id": "d434f90c",
   "metadata": {},
   "outputs": [
    {
     "ename": "TypeError",
     "evalue": "'tuple' object does not support item assignment",
     "output_type": "error",
     "traceback": [
      "\u001b[1;31m---------------------------------------------------------------------------\u001b[0m",
      "\u001b[1;31mTypeError\u001b[0m                                 Traceback (most recent call last)",
      "\u001b[1;32m~\\AppData\\Local\\Temp/ipykernel_12344/828874529.py\u001b[0m in \u001b[0;36m<module>\u001b[1;34m\u001b[0m\n\u001b[1;32m----> 1\u001b[1;33m \u001b[0mt\u001b[0m\u001b[1;33m[\u001b[0m\u001b[1;36m1\u001b[0m\u001b[1;33m]\u001b[0m \u001b[1;33m=\u001b[0m \u001b[1;36m4\u001b[0m \u001b[1;31m#This can lead to error 'tuple' object does not support item assignment\u001b[0m\u001b[1;33m\u001b[0m\u001b[1;33m\u001b[0m\u001b[0m\n\u001b[0m",
      "\u001b[1;31mTypeError\u001b[0m: 'tuple' object does not support item assignment"
     ]
    }
   ],
   "source": [
    "t[1] = 4 #This can lead to error 'tuple' object does not support item assignment"
   ]
  },
  {
   "cell_type": "code",
   "execution_count": 23,
   "id": "a9fb1077",
   "metadata": {},
   "outputs": [],
   "source": [
    "t = ('a', 'b', 'r', 'a')"
   ]
  },
  {
   "cell_type": "code",
   "execution_count": 25,
   "id": "bf1bca32",
   "metadata": {},
   "outputs": [
    {
     "data": {
      "text/plain": [
       "2"
      ]
     },
     "execution_count": 25,
     "metadata": {},
     "output_type": "execute_result"
    }
   ],
   "source": [
    "t.count('a') #Count number of element 'a'"
   ]
  },
  {
   "cell_type": "code",
   "execution_count": 26,
   "id": "5c47ac23",
   "metadata": {},
   "outputs": [
    {
     "data": {
      "text/plain": [
       "('a', 'b', 'r', 'a')"
      ]
     },
     "execution_count": 26,
     "metadata": {},
     "output_type": "execute_result"
    }
   ],
   "source": [
    "t"
   ]
  },
  {
   "cell_type": "markdown",
   "id": "9616f16a",
   "metadata": {},
   "source": [
    "################# Set #################\n",
    "Unordered collections of Unique element"
   ]
  },
  {
   "cell_type": "code",
   "execution_count": 31,
   "id": "de22b045",
   "metadata": {},
   "outputs": [],
   "source": [
    "my_set = {'a', 'b', 'r', 'a'}"
   ]
  },
  {
   "cell_type": "code",
   "execution_count": 32,
   "id": "f2914c94",
   "metadata": {},
   "outputs": [
    {
     "data": {
      "text/plain": [
       "set"
      ]
     },
     "execution_count": 32,
     "metadata": {},
     "output_type": "execute_result"
    }
   ],
   "source": [
    "type(my_set)"
   ]
  },
  {
   "cell_type": "code",
   "execution_count": 33,
   "id": "238fd841",
   "metadata": {},
   "outputs": [
    {
     "data": {
      "text/plain": [
       "{'a', 'b', 'r'}"
      ]
     },
     "execution_count": 33,
     "metadata": {},
     "output_type": "execute_result"
    }
   ],
   "source": [
    "my_set"
   ]
  },
  {
   "cell_type": "code",
   "execution_count": null,
   "id": "7fbb05a2",
   "metadata": {},
   "outputs": [],
   "source": []
  }
 ],
 "metadata": {
  "kernelspec": {
   "display_name": "Python 3 (ipykernel)",
   "language": "python",
   "name": "python3"
  },
  "language_info": {
   "codemirror_mode": {
    "name": "ipython",
    "version": 3
   },
   "file_extension": ".py",
   "mimetype": "text/x-python",
   "name": "python",
   "nbconvert_exporter": "python",
   "pygments_lexer": "ipython3",
   "version": "3.9.7"
  }
 },
 "nbformat": 4,
 "nbformat_minor": 5
}
