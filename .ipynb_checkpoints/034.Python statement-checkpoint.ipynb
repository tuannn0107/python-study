{
 "cells": [
  {
   "cell_type": "markdown",
   "id": "6aa66355",
   "metadata": {},
   "source": [
    "################# If-Else ###################"
   ]
  },
  {
   "cell_type": "code",
   "execution_count": 5,
   "id": "6563b696",
   "metadata": {},
   "outputs": [
    {
     "name": "stdout",
     "output_type": "stream",
     "text": [
      "execute the code block\n"
     ]
    }
   ],
   "source": [
    "if True:\n",
    "    # execute the code block\n",
    "    print('execute the code block')\n",
    "elif True:\n",
    "    # execute the code block 2\n",
    "    print('execute the code block 2')\n",
    "else:\n",
    "    # execute the code block 3\n",
    "    print('execute the code block 3')"
   ]
  },
  {
   "cell_type": "markdown",
   "id": "3f0fdfdb",
   "metadata": {},
   "source": [
    "################# For loop ###################"
   ]
  },
  {
   "cell_type": "code",
   "execution_count": 6,
   "id": "2fcbc2aa",
   "metadata": {},
   "outputs": [
    {
     "name": "stdout",
     "output_type": "stream",
     "text": [
      "1\n",
      "3\n",
      "5\n",
      "6\n",
      "8\n"
     ]
    }
   ],
   "source": [
    "my_list = [1, 3, 5, 6, 8]\n",
    "for item in my_list:\n",
    "    print(item)"
   ]
  },
  {
   "cell_type": "code",
   "execution_count": 8,
   "id": "42b5f7d9",
   "metadata": {},
   "outputs": [
    {
     "name": "stdout",
     "output_type": "stream",
     "text": [
      "0\n",
      "1\n",
      "2\n",
      "3\n",
      "4\n",
      "5\n",
      "6\n",
      "7\n",
      "8\n",
      "9\n"
     ]
    }
   ],
   "source": [
    "for item in range (0, 10):\n",
    "    print(item)"
   ]
  },
  {
   "cell_type": "code",
   "execution_count": 9,
   "id": "ebc06ba2",
   "metadata": {},
   "outputs": [
    {
     "ename": "TypeError",
     "evalue": "'str' object cannot be interpreted as an integer",
     "output_type": "error",
     "traceback": [
      "\u001b[1;31m---------------------------------------------------------------------------\u001b[0m",
      "\u001b[1;31mTypeError\u001b[0m                                 Traceback (most recent call last)",
      "\u001b[1;32m~\\AppData\\Local\\Temp/ipykernel_21700/4030847260.py\u001b[0m in \u001b[0;36m<module>\u001b[1;34m\u001b[0m\n\u001b[1;32m----> 1\u001b[1;33m \u001b[1;32mfor\u001b[0m \u001b[0mitem\u001b[0m \u001b[1;32min\u001b[0m \u001b[0mrange\u001b[0m \u001b[1;33m(\u001b[0m\u001b[1;34m'a'\u001b[0m\u001b[1;33m,\u001b[0m \u001b[1;34m'z'\u001b[0m\u001b[1;33m)\u001b[0m\u001b[1;33m:\u001b[0m\u001b[1;33m\u001b[0m\u001b[1;33m\u001b[0m\u001b[0m\n\u001b[0m\u001b[0;32m      2\u001b[0m     \u001b[0mprint\u001b[0m\u001b[1;33m(\u001b[0m\u001b[0mitem\u001b[0m\u001b[1;33m)\u001b[0m\u001b[1;33m\u001b[0m\u001b[1;33m\u001b[0m\u001b[0m\n",
      "\u001b[1;31mTypeError\u001b[0m: 'str' object cannot be interpreted as an integer"
     ]
    }
   ],
   "source": [
    "for item in range ('a', 'z'):\n",
    "    print(item)"
   ]
  },
  {
   "cell_type": "code",
   "execution_count": 11,
   "id": "d5f94bfd",
   "metadata": {},
   "outputs": [
    {
     "name": "stdout",
     "output_type": "stream",
     "text": [
      "h\n",
      "e\n",
      "l\n",
      "l\n",
      "o\n",
      " \n",
      "w\n",
      "o\n",
      "r\n",
      "l\n",
      "d\n",
      " \n",
      "p\n",
      "y\n",
      "t\n",
      "h\n",
      "o\n",
      "n\n"
     ]
    }
   ],
   "source": [
    "my_string = 'hello world python'\n",
    "for item in my_string:\n",
    "    print(item)"
   ]
  },
  {
   "cell_type": "code",
   "execution_count": 14,
   "id": "9b7b2c41",
   "metadata": {},
   "outputs": [
    {
     "name": "stdout",
     "output_type": "stream",
     "text": [
      "2\n",
      "4\n",
      "6\n"
     ]
    }
   ],
   "source": [
    "my_list = [(1, 2, 3), (1, 4, 8), (5, 6, 7)]\n",
    "for (a, b, c) in my_list:\n",
    "    print(b)"
   ]
  },
  {
   "cell_type": "code",
   "execution_count": 17,
   "id": "cda9155e",
   "metadata": {},
   "outputs": [
    {
     "name": "stdout",
     "output_type": "stream",
     "text": [
      "key: k1, val: val1\n",
      "key: k2, val: val2\n",
      "key: k3, val: val3\n"
     ]
    }
   ],
   "source": [
    "my_dict = {'k1': 'val1', 'k2': 'val2', 'k3': 'val3'}\n",
    "for (key, val) in my_dict.items():\n",
    "    print('key: {}, val: {}'.format(key, val))"
   ]
  },
  {
   "cell_type": "markdown",
   "id": "dd492589",
   "metadata": {},
   "source": [
    "################# For loop ###################\n",
    "\n",
    "while boolean_value:\n",
    "\n",
    "     # do something\n",
    "else:\n",
    "\n",
    "    # do something different"
   ]
  },
  {
   "cell_type": "code",
   "execution_count": null,
   "id": "a3522aff",
   "metadata": {},
   "outputs": [],
   "source": [
    "x = 3\n",
    "while x > 0:\n",
    "    print('x = {}'.format(x))\n",
    "    x -= 1\n",
    "else:\n",
    "    print('x < 0. x = {}'.format(x))"
   ]
  },
  {
   "cell_type": "code",
   "execution_count": null,
   "id": "87459051",
   "metadata": {},
   "outputs": [],
   "source": []
  }
 ],
 "metadata": {
  "kernelspec": {
   "display_name": "Python 3 (ipykernel)",
   "language": "python",
   "name": "python3"
  },
  "language_info": {
   "codemirror_mode": {
    "name": "ipython",
    "version": 3
   },
   "file_extension": ".py",
   "mimetype": "text/x-python",
   "name": "python",
   "nbconvert_exporter": "python",
   "pygments_lexer": "ipython3",
   "version": "3.9.7"
  }
 },
 "nbformat": 4,
 "nbformat_minor": 5
}
